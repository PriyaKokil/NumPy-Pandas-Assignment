{
 "cells": [
  {
   "cell_type": "markdown",
   "id": "6c8685fc-c917-47da-a197-d5563976376d",
   "metadata": {},
   "source": [
    "# Assignment 01: \n",
    "1. Load the Iris dataset into a pandas DataFrame\n",
    "2. Find the mean and median of the 'sepal_length' column.\n",
    "3. Calculate the 75th percentile of the 'petal_width' column for each species in the Iris dataset.\n",
    "4. Create a new column in the Iris DataFrame called 'sepal_area', which is the product of 'sepal_length' and 'sepal_width'.\n",
    "5. Remove all rows in the Iris DataFrame where 'petal_length' is greater than twice the standard deviation of 'petal_length' for that species.\n",
    "6. Normalize all numerical columns in the Iris DataFrame (except the 'species' column) using Min-Max scaling.\n",
    "7. Find the three most common combinations of 'sepal_length', 'sepal_width', and 'petal_length' in the Iris dataset.\n",
    "8. Group the Iris DataFrame by 'species' and find the row with the highest 'sepal_width' for each group.\n",
    "9. Replace all negative values in the 'petal_width' column of the Iris DataFrame with the mean of the non-negative values in that column.\n",
    "10. Calculate the correlation matrix for the 'sepal_length', 'sepal_width', 'petal_length', and 'petal_width' columns in the Iris dataset and find the feature with the highest absolute correlation with 'petal_width'.\n"
   ]
  },
  {
   "cell_type": "markdown",
   "id": "7781748b-bd5b-4afd-ba72-7912e212c4e2",
   "metadata": {},
   "source": [
    "### Load the Iris dataset into a pandas DataFrame"
   ]
  },
  {
   "cell_type": "code",
   "execution_count": 1,
   "id": "03609750-e13b-4de5-ab5f-a7d97e71e052",
   "metadata": {},
   "outputs": [],
   "source": [
    "import numpy as np\n",
    "import pandas as pd"
   ]
  },
  {
   "cell_type": "code",
   "execution_count": 2,
   "id": "b15160a0-2ff8-4acf-8913-72132e5b1606",
   "metadata": {},
   "outputs": [],
   "source": [
    "df = pd.read_csv(\"iris.csv\")"
   ]
  },
  {
   "cell_type": "code",
   "execution_count": 3,
   "id": "2232dd45-f268-448a-b80b-1710cd538e7a",
   "metadata": {},
   "outputs": [
    {
     "data": {
      "text/html": [
       "<div>\n",
       "<style scoped>\n",
       "    .dataframe tbody tr th:only-of-type {\n",
       "        vertical-align: middle;\n",
       "    }\n",
       "\n",
       "    .dataframe tbody tr th {\n",
       "        vertical-align: top;\n",
       "    }\n",
       "\n",
       "    .dataframe thead th {\n",
       "        text-align: right;\n",
       "    }\n",
       "</style>\n",
       "<table border=\"1\" class=\"dataframe\">\n",
       "  <thead>\n",
       "    <tr style=\"text-align: right;\">\n",
       "      <th></th>\n",
       "      <th>sepal_length</th>\n",
       "      <th>sepal_width</th>\n",
       "      <th>petal_length</th>\n",
       "      <th>petal_width</th>\n",
       "      <th>species</th>\n",
       "    </tr>\n",
       "  </thead>\n",
       "  <tbody>\n",
       "    <tr>\n",
       "      <th>0</th>\n",
       "      <td>5.1</td>\n",
       "      <td>3.5</td>\n",
       "      <td>1.4</td>\n",
       "      <td>0.2</td>\n",
       "      <td>setosa</td>\n",
       "    </tr>\n",
       "    <tr>\n",
       "      <th>1</th>\n",
       "      <td>4.9</td>\n",
       "      <td>3.0</td>\n",
       "      <td>1.4</td>\n",
       "      <td>0.2</td>\n",
       "      <td>setosa</td>\n",
       "    </tr>\n",
       "    <tr>\n",
       "      <th>2</th>\n",
       "      <td>4.7</td>\n",
       "      <td>3.2</td>\n",
       "      <td>1.3</td>\n",
       "      <td>0.2</td>\n",
       "      <td>setosa</td>\n",
       "    </tr>\n",
       "    <tr>\n",
       "      <th>3</th>\n",
       "      <td>4.6</td>\n",
       "      <td>3.1</td>\n",
       "      <td>1.5</td>\n",
       "      <td>0.2</td>\n",
       "      <td>setosa</td>\n",
       "    </tr>\n",
       "    <tr>\n",
       "      <th>4</th>\n",
       "      <td>5.0</td>\n",
       "      <td>3.6</td>\n",
       "      <td>1.4</td>\n",
       "      <td>0.2</td>\n",
       "      <td>setosa</td>\n",
       "    </tr>\n",
       "    <tr>\n",
       "      <th>...</th>\n",
       "      <td>...</td>\n",
       "      <td>...</td>\n",
       "      <td>...</td>\n",
       "      <td>...</td>\n",
       "      <td>...</td>\n",
       "    </tr>\n",
       "    <tr>\n",
       "      <th>145</th>\n",
       "      <td>6.7</td>\n",
       "      <td>3.0</td>\n",
       "      <td>5.2</td>\n",
       "      <td>2.3</td>\n",
       "      <td>virginica</td>\n",
       "    </tr>\n",
       "    <tr>\n",
       "      <th>146</th>\n",
       "      <td>6.3</td>\n",
       "      <td>2.5</td>\n",
       "      <td>5.0</td>\n",
       "      <td>1.9</td>\n",
       "      <td>virginica</td>\n",
       "    </tr>\n",
       "    <tr>\n",
       "      <th>147</th>\n",
       "      <td>6.5</td>\n",
       "      <td>3.0</td>\n",
       "      <td>5.2</td>\n",
       "      <td>2.0</td>\n",
       "      <td>virginica</td>\n",
       "    </tr>\n",
       "    <tr>\n",
       "      <th>148</th>\n",
       "      <td>6.2</td>\n",
       "      <td>3.4</td>\n",
       "      <td>5.4</td>\n",
       "      <td>2.3</td>\n",
       "      <td>virginica</td>\n",
       "    </tr>\n",
       "    <tr>\n",
       "      <th>149</th>\n",
       "      <td>5.9</td>\n",
       "      <td>3.0</td>\n",
       "      <td>5.1</td>\n",
       "      <td>1.8</td>\n",
       "      <td>virginica</td>\n",
       "    </tr>\n",
       "  </tbody>\n",
       "</table>\n",
       "<p>150 rows × 5 columns</p>\n",
       "</div>"
      ],
      "text/plain": [
       "     sepal_length  sepal_width  petal_length  petal_width    species\n",
       "0             5.1          3.5           1.4          0.2     setosa\n",
       "1             4.9          3.0           1.4          0.2     setosa\n",
       "2             4.7          3.2           1.3          0.2     setosa\n",
       "3             4.6          3.1           1.5          0.2     setosa\n",
       "4             5.0          3.6           1.4          0.2     setosa\n",
       "..            ...          ...           ...          ...        ...\n",
       "145           6.7          3.0           5.2          2.3  virginica\n",
       "146           6.3          2.5           5.0          1.9  virginica\n",
       "147           6.5          3.0           5.2          2.0  virginica\n",
       "148           6.2          3.4           5.4          2.3  virginica\n",
       "149           5.9          3.0           5.1          1.8  virginica\n",
       "\n",
       "[150 rows x 5 columns]"
      ]
     },
     "execution_count": 3,
     "metadata": {},
     "output_type": "execute_result"
    }
   ],
   "source": [
    "df"
   ]
  },
  {
   "cell_type": "markdown",
   "id": "9bfb66d2-de59-4270-a5a4-2dcf3a21e440",
   "metadata": {},
   "source": [
    "### Find the mean and median of the 'sepal_length' column."
   ]
  },
  {
   "cell_type": "code",
   "execution_count": 5,
   "id": "c5fe0040-f273-4723-8a8b-13024cb0577c",
   "metadata": {},
   "outputs": [],
   "source": [
    "mean_sepal_length = df['sepal_length'].mean()"
   ]
  },
  {
   "cell_type": "code",
   "execution_count": 6,
   "id": "0fab5b28-2b6e-4231-ba47-e9c81eb160d5",
   "metadata": {},
   "outputs": [
    {
     "data": {
      "text/plain": [
       "5.843333333333334"
      ]
     },
     "execution_count": 6,
     "metadata": {},
     "output_type": "execute_result"
    }
   ],
   "source": [
    "mean_sepal_length"
   ]
  },
  {
   "cell_type": "markdown",
   "id": "2335bb33-19fa-4049-a1c3-fae58c757e51",
   "metadata": {},
   "source": [
    "### Calculate the 75th percentile of the 'petal_width' column for each species in the Iris dataset."
   ]
  },
  {
   "cell_type": "code",
   "execution_count": 20,
   "id": "3bdead21-c28f-46d7-8b8e-e5ee22ef3a81",
   "metadata": {},
   "outputs": [],
   "source": [
    "petal_width_per= df.groupby('species')['petal_width'].quantile(0.75)"
   ]
  },
  {
   "cell_type": "code",
   "execution_count": 21,
   "id": "41aad004-37b5-40a0-874b-681646d0cb78",
   "metadata": {},
   "outputs": [
    {
     "data": {
      "text/plain": [
       "species\n",
       "setosa        0.3\n",
       "versicolor    1.5\n",
       "virginica     2.3\n",
       "Name: petal_width, dtype: float64"
      ]
     },
     "execution_count": 21,
     "metadata": {},
     "output_type": "execute_result"
    }
   ],
   "source": [
    "petal_width_per"
   ]
  },
  {
   "cell_type": "markdown",
   "id": "379960c9-f4b0-474d-a1cb-789d1e847651",
   "metadata": {},
   "source": [
    "### Create a new column in the Iris DataFrame called 'sepal_area', which is the product of 'sepal_length' and 'sepal_width'."
   ]
  },
  {
   "cell_type": "code",
   "execution_count": 23,
   "id": "59b62a25-6f96-47c4-a09e-477c82c6c9da",
   "metadata": {},
   "outputs": [],
   "source": [
    "df['sepal_area'] = df['sepal_length']*df['sepal_width']"
   ]
  },
  {
   "cell_type": "code",
   "execution_count": 24,
   "id": "14ad1205-8880-4a43-822c-8302ed473761",
   "metadata": {},
   "outputs": [
    {
     "data": {
      "text/plain": [
       "0      17.85\n",
       "1      14.70\n",
       "2      15.04\n",
       "3      14.26\n",
       "4      18.00\n",
       "       ...  \n",
       "145    20.10\n",
       "146    15.75\n",
       "147    19.50\n",
       "148    21.08\n",
       "149    17.70\n",
       "Name: sepal_area, Length: 150, dtype: float64"
      ]
     },
     "execution_count": 24,
     "metadata": {},
     "output_type": "execute_result"
    }
   ],
   "source": [
    "df['sepal_area']"
   ]
  },
  {
   "cell_type": "code",
   "execution_count": 25,
   "id": "50779b12-a06f-4d1f-ba02-fdbedd6ec61f",
   "metadata": {},
   "outputs": [
    {
     "data": {
      "text/html": [
       "<div>\n",
       "<style scoped>\n",
       "    .dataframe tbody tr th:only-of-type {\n",
       "        vertical-align: middle;\n",
       "    }\n",
       "\n",
       "    .dataframe tbody tr th {\n",
       "        vertical-align: top;\n",
       "    }\n",
       "\n",
       "    .dataframe thead th {\n",
       "        text-align: right;\n",
       "    }\n",
       "</style>\n",
       "<table border=\"1\" class=\"dataframe\">\n",
       "  <thead>\n",
       "    <tr style=\"text-align: right;\">\n",
       "      <th></th>\n",
       "      <th>sepal_length</th>\n",
       "      <th>sepal_width</th>\n",
       "      <th>petal_length</th>\n",
       "      <th>petal_width</th>\n",
       "      <th>species</th>\n",
       "      <th>sepal_area</th>\n",
       "    </tr>\n",
       "  </thead>\n",
       "  <tbody>\n",
       "    <tr>\n",
       "      <th>0</th>\n",
       "      <td>5.1</td>\n",
       "      <td>3.5</td>\n",
       "      <td>1.4</td>\n",
       "      <td>0.2</td>\n",
       "      <td>setosa</td>\n",
       "      <td>17.85</td>\n",
       "    </tr>\n",
       "    <tr>\n",
       "      <th>1</th>\n",
       "      <td>4.9</td>\n",
       "      <td>3.0</td>\n",
       "      <td>1.4</td>\n",
       "      <td>0.2</td>\n",
       "      <td>setosa</td>\n",
       "      <td>14.70</td>\n",
       "    </tr>\n",
       "    <tr>\n",
       "      <th>2</th>\n",
       "      <td>4.7</td>\n",
       "      <td>3.2</td>\n",
       "      <td>1.3</td>\n",
       "      <td>0.2</td>\n",
       "      <td>setosa</td>\n",
       "      <td>15.04</td>\n",
       "    </tr>\n",
       "    <tr>\n",
       "      <th>3</th>\n",
       "      <td>4.6</td>\n",
       "      <td>3.1</td>\n",
       "      <td>1.5</td>\n",
       "      <td>0.2</td>\n",
       "      <td>setosa</td>\n",
       "      <td>14.26</td>\n",
       "    </tr>\n",
       "    <tr>\n",
       "      <th>4</th>\n",
       "      <td>5.0</td>\n",
       "      <td>3.6</td>\n",
       "      <td>1.4</td>\n",
       "      <td>0.2</td>\n",
       "      <td>setosa</td>\n",
       "      <td>18.00</td>\n",
       "    </tr>\n",
       "  </tbody>\n",
       "</table>\n",
       "</div>"
      ],
      "text/plain": [
       "   sepal_length  sepal_width  petal_length  petal_width species  sepal_area\n",
       "0           5.1          3.5           1.4          0.2  setosa       17.85\n",
       "1           4.9          3.0           1.4          0.2  setosa       14.70\n",
       "2           4.7          3.2           1.3          0.2  setosa       15.04\n",
       "3           4.6          3.1           1.5          0.2  setosa       14.26\n",
       "4           5.0          3.6           1.4          0.2  setosa       18.00"
      ]
     },
     "execution_count": 25,
     "metadata": {},
     "output_type": "execute_result"
    }
   ],
   "source": [
    "df.head()"
   ]
  },
  {
   "cell_type": "markdown",
   "id": "904ffd2a-65d0-4945-853a-3666edeccd8c",
   "metadata": {},
   "source": [
    "### Remove all rows in the Iris DataFrame where 'petal_length' is greater than twice the standard deviation of 'petal_length' for that species."
   ]
  },
  {
   "cell_type": "code",
   "execution_count": 28,
   "id": "2974fd07-0d6e-4223-a8cc-30d06fb86b0e",
   "metadata": {},
   "outputs": [],
   "source": [
    "std_dev = df.groupby('species')['petal_length'].transform('std')"
   ]
  },
  {
   "cell_type": "code",
   "execution_count": 29,
   "id": "505bba93-a93f-4786-ac1f-0aff1d7bafc4",
   "metadata": {},
   "outputs": [
    {
     "data": {
      "text/plain": [
       "0      0.173511\n",
       "1      0.173511\n",
       "2      0.173511\n",
       "3      0.173511\n",
       "4      0.173511\n",
       "         ...   \n",
       "145    0.551895\n",
       "146    0.551895\n",
       "147    0.551895\n",
       "148    0.551895\n",
       "149    0.551895\n",
       "Name: petal_length, Length: 150, dtype: float64"
      ]
     },
     "execution_count": 29,
     "metadata": {},
     "output_type": "execute_result"
    }
   ],
   "source": [
    "std_dev"
   ]
  },
  {
   "cell_type": "code",
   "execution_count": 36,
   "id": "49ce9605-ff81-4b61-98b3-633ea17facb7",
   "metadata": {},
   "outputs": [],
   "source": [
    "filter_df = df[df['petal_length'] <= 2* std_dev]"
   ]
  },
  {
   "cell_type": "code",
   "execution_count": 37,
   "id": "653447a0-5f76-4529-8b30-e9a4c11de7cc",
   "metadata": {},
   "outputs": [
    {
     "data": {
      "text/html": [
       "<div>\n",
       "<style scoped>\n",
       "    .dataframe tbody tr th:only-of-type {\n",
       "        vertical-align: middle;\n",
       "    }\n",
       "\n",
       "    .dataframe tbody tr th {\n",
       "        vertical-align: top;\n",
       "    }\n",
       "\n",
       "    .dataframe thead th {\n",
       "        text-align: right;\n",
       "    }\n",
       "</style>\n",
       "<table border=\"1\" class=\"dataframe\">\n",
       "  <thead>\n",
       "    <tr style=\"text-align: right;\">\n",
       "      <th></th>\n",
       "      <th>sepal_length</th>\n",
       "      <th>sepal_width</th>\n",
       "      <th>petal_length</th>\n",
       "      <th>petal_width</th>\n",
       "      <th>species</th>\n",
       "      <th>sepal_area</th>\n",
       "    </tr>\n",
       "  </thead>\n",
       "  <tbody>\n",
       "  </tbody>\n",
       "</table>\n",
       "</div>"
      ],
      "text/plain": [
       "Empty DataFrame\n",
       "Columns: [sepal_length, sepal_width, petal_length, petal_width, species, sepal_area]\n",
       "Index: []"
      ]
     },
     "execution_count": 37,
     "metadata": {},
     "output_type": "execute_result"
    }
   ],
   "source": [
    "filter_df.reset_index(drop=True)"
   ]
  },
  {
   "cell_type": "markdown",
   "id": "d2e7054e-849e-4af0-8895-965608253540",
   "metadata": {},
   "source": [
    "### Normalize all numerical columns in the Iris DataFrame (except the 'species' column) using Min-Max scaling."
   ]
  },
  {
   "cell_type": "code",
   "execution_count": 39,
   "id": "5b42c1e2-f4f4-46e1-b5b8-e8d2d3ab3694",
   "metadata": {},
   "outputs": [
    {
     "data": {
      "text/html": [
       "<div>\n",
       "<style scoped>\n",
       "    .dataframe tbody tr th:only-of-type {\n",
       "        vertical-align: middle;\n",
       "    }\n",
       "\n",
       "    .dataframe tbody tr th {\n",
       "        vertical-align: top;\n",
       "    }\n",
       "\n",
       "    .dataframe thead th {\n",
       "        text-align: right;\n",
       "    }\n",
       "</style>\n",
       "<table border=\"1\" class=\"dataframe\">\n",
       "  <thead>\n",
       "    <tr style=\"text-align: right;\">\n",
       "      <th></th>\n",
       "      <th>sepal_length</th>\n",
       "      <th>sepal_width</th>\n",
       "      <th>petal_length</th>\n",
       "      <th>petal_width</th>\n",
       "      <th>species</th>\n",
       "      <th>sepal_area</th>\n",
       "    </tr>\n",
       "  </thead>\n",
       "  <tbody>\n",
       "    <tr>\n",
       "      <th>0</th>\n",
       "      <td>5.1</td>\n",
       "      <td>3.5</td>\n",
       "      <td>1.4</td>\n",
       "      <td>0.2</td>\n",
       "      <td>setosa</td>\n",
       "      <td>17.85</td>\n",
       "    </tr>\n",
       "    <tr>\n",
       "      <th>1</th>\n",
       "      <td>4.9</td>\n",
       "      <td>3.0</td>\n",
       "      <td>1.4</td>\n",
       "      <td>0.2</td>\n",
       "      <td>setosa</td>\n",
       "      <td>14.70</td>\n",
       "    </tr>\n",
       "    <tr>\n",
       "      <th>2</th>\n",
       "      <td>4.7</td>\n",
       "      <td>3.2</td>\n",
       "      <td>1.3</td>\n",
       "      <td>0.2</td>\n",
       "      <td>setosa</td>\n",
       "      <td>15.04</td>\n",
       "    </tr>\n",
       "    <tr>\n",
       "      <th>3</th>\n",
       "      <td>4.6</td>\n",
       "      <td>3.1</td>\n",
       "      <td>1.5</td>\n",
       "      <td>0.2</td>\n",
       "      <td>setosa</td>\n",
       "      <td>14.26</td>\n",
       "    </tr>\n",
       "    <tr>\n",
       "      <th>4</th>\n",
       "      <td>5.0</td>\n",
       "      <td>3.6</td>\n",
       "      <td>1.4</td>\n",
       "      <td>0.2</td>\n",
       "      <td>setosa</td>\n",
       "      <td>18.00</td>\n",
       "    </tr>\n",
       "  </tbody>\n",
       "</table>\n",
       "</div>"
      ],
      "text/plain": [
       "   sepal_length  sepal_width  petal_length  petal_width species  sepal_area\n",
       "0           5.1          3.5           1.4          0.2  setosa       17.85\n",
       "1           4.9          3.0           1.4          0.2  setosa       14.70\n",
       "2           4.7          3.2           1.3          0.2  setosa       15.04\n",
       "3           4.6          3.1           1.5          0.2  setosa       14.26\n",
       "4           5.0          3.6           1.4          0.2  setosa       18.00"
      ]
     },
     "execution_count": 39,
     "metadata": {},
     "output_type": "execute_result"
    }
   ],
   "source": [
    "df.head()"
   ]
  },
  {
   "cell_type": "code",
   "execution_count": 43,
   "id": "2090e584-021c-4bd8-a277-637488bd1765",
   "metadata": {},
   "outputs": [],
   "source": [
    "numerical_columns = df.select_dtypes(include = ['int64' , 'float64']).columns.difference(['species'])"
   ]
  },
  {
   "cell_type": "code",
   "execution_count": 44,
   "id": "c2cb7b88-971d-421c-888d-ce491dd4bcd0",
   "metadata": {},
   "outputs": [
    {
     "data": {
      "text/plain": [
       "Index(['petal_length', 'petal_width', 'sepal_area', 'sepal_length',\n",
       "       'sepal_width'],\n",
       "      dtype='object')"
      ]
     },
     "execution_count": 44,
     "metadata": {},
     "output_type": "execute_result"
    }
   ],
   "source": [
    "numerical_columns"
   ]
  },
  {
   "cell_type": "code",
   "execution_count": 45,
   "id": "68d5909f-4229-4f15-aedb-e9dd525d4fd0",
   "metadata": {},
   "outputs": [],
   "source": [
    "from sklearn.preprocessing import MinMaxScaler"
   ]
  },
  {
   "cell_type": "code",
   "execution_count": 46,
   "id": "263285cf-4fd2-43c7-8d5c-d98ac2cf857e",
   "metadata": {},
   "outputs": [],
   "source": [
    "scalar = MinMaxScaler()"
   ]
  },
  {
   "cell_type": "code",
   "execution_count": 50,
   "id": "efa39879-70b4-4f6a-a2cb-24d3c46f5139",
   "metadata": {},
   "outputs": [],
   "source": [
    "df[numerical_columns] = scalar.fit_transform(df[numerical_columns])"
   ]
  },
  {
   "cell_type": "code",
   "execution_count": 53,
   "id": "d1c4c802-45d4-47f0-af58-0b2eb052b7a0",
   "metadata": {},
   "outputs": [
    {
     "data": {
      "text/html": [
       "<div>\n",
       "<style scoped>\n",
       "    .dataframe tbody tr th:only-of-type {\n",
       "        vertical-align: middle;\n",
       "    }\n",
       "\n",
       "    .dataframe tbody tr th {\n",
       "        vertical-align: top;\n",
       "    }\n",
       "\n",
       "    .dataframe thead th {\n",
       "        text-align: right;\n",
       "    }\n",
       "</style>\n",
       "<table border=\"1\" class=\"dataframe\">\n",
       "  <thead>\n",
       "    <tr style=\"text-align: right;\">\n",
       "      <th></th>\n",
       "      <th>sepal_length</th>\n",
       "      <th>sepal_width</th>\n",
       "      <th>petal_length</th>\n",
       "      <th>petal_width</th>\n",
       "      <th>species</th>\n",
       "      <th>sepal_area</th>\n",
       "    </tr>\n",
       "  </thead>\n",
       "  <tbody>\n",
       "    <tr>\n",
       "      <th>0</th>\n",
       "      <td>0.222222</td>\n",
       "      <td>0.625000</td>\n",
       "      <td>0.067797</td>\n",
       "      <td>0.041667</td>\n",
       "      <td>setosa</td>\n",
       "      <td>0.392108</td>\n",
       "    </tr>\n",
       "    <tr>\n",
       "      <th>1</th>\n",
       "      <td>0.166667</td>\n",
       "      <td>0.416667</td>\n",
       "      <td>0.067797</td>\n",
       "      <td>0.041667</td>\n",
       "      <td>setosa</td>\n",
       "      <td>0.234765</td>\n",
       "    </tr>\n",
       "    <tr>\n",
       "      <th>2</th>\n",
       "      <td>0.111111</td>\n",
       "      <td>0.500000</td>\n",
       "      <td>0.050847</td>\n",
       "      <td>0.041667</td>\n",
       "      <td>setosa</td>\n",
       "      <td>0.251748</td>\n",
       "    </tr>\n",
       "    <tr>\n",
       "      <th>3</th>\n",
       "      <td>0.083333</td>\n",
       "      <td>0.458333</td>\n",
       "      <td>0.084746</td>\n",
       "      <td>0.041667</td>\n",
       "      <td>setosa</td>\n",
       "      <td>0.212787</td>\n",
       "    </tr>\n",
       "    <tr>\n",
       "      <th>4</th>\n",
       "      <td>0.194444</td>\n",
       "      <td>0.666667</td>\n",
       "      <td>0.067797</td>\n",
       "      <td>0.041667</td>\n",
       "      <td>setosa</td>\n",
       "      <td>0.399600</td>\n",
       "    </tr>\n",
       "  </tbody>\n",
       "</table>\n",
       "</div>"
      ],
      "text/plain": [
       "   sepal_length  sepal_width  petal_length  petal_width species  sepal_area\n",
       "0      0.222222     0.625000      0.067797     0.041667  setosa    0.392108\n",
       "1      0.166667     0.416667      0.067797     0.041667  setosa    0.234765\n",
       "2      0.111111     0.500000      0.050847     0.041667  setosa    0.251748\n",
       "3      0.083333     0.458333      0.084746     0.041667  setosa    0.212787\n",
       "4      0.194444     0.666667      0.067797     0.041667  setosa    0.399600"
      ]
     },
     "execution_count": 53,
     "metadata": {},
     "output_type": "execute_result"
    }
   ],
   "source": [
    "df.head()"
   ]
  },
  {
   "cell_type": "markdown",
   "id": "647724f5-1242-494f-a590-92dc70e2dbcf",
   "metadata": {},
   "source": [
    "### Find the three most common combinations of 'sepal_length', 'sepal_width', and 'petal_length' in the Iris dataset."
   ]
  },
  {
   "cell_type": "code",
   "execution_count": 55,
   "id": "de7c945d-363e-4a29-b1cf-1042b8c33ef7",
   "metadata": {},
   "outputs": [],
   "source": [
    "most_common_combinaitons = df.groupby(['sepal_length','sepal_width','petal_length']).size().nlargest(3)"
   ]
  },
  {
   "cell_type": "code",
   "execution_count": 56,
   "id": "0e4e2a7f-8de6-4383-8112-bd0980cf7f07",
   "metadata": {},
   "outputs": [
    {
     "data": {
      "text/plain": [
       "sepal_length  sepal_width  petal_length\n",
       "0.166667      0.458333     0.084746        3\n",
       "0.138889      0.416667     0.067797        2\n",
       "0.222222      0.625000     0.067797        2\n",
       "dtype: int64"
      ]
     },
     "execution_count": 56,
     "metadata": {},
     "output_type": "execute_result"
    }
   ],
   "source": [
    "most_common_combinaitons"
   ]
  },
  {
   "cell_type": "markdown",
   "id": "d2c17360-989a-4c2f-875d-fd320a81f5ca",
   "metadata": {
    "tags": []
   },
   "source": [
    "### Group the Iris DataFrame by 'species' and find the row with the highest 'sepal_width' for each group."
   ]
  },
  {
   "cell_type": "code",
   "execution_count": 59,
   "id": "686e01c9-3f6d-4db8-a176-dba60348b164",
   "metadata": {},
   "outputs": [],
   "source": [
    "highest_sepal_width_rows = df.loc[df.groupby('species')['sepal_width'].idxmax()]"
   ]
  },
  {
   "cell_type": "code",
   "execution_count": 60,
   "id": "35996aa7-bf9d-4cb8-ad03-ed4482db174e",
   "metadata": {},
   "outputs": [
    {
     "data": {
      "text/html": [
       "<div>\n",
       "<style scoped>\n",
       "    .dataframe tbody tr th:only-of-type {\n",
       "        vertical-align: middle;\n",
       "    }\n",
       "\n",
       "    .dataframe tbody tr th {\n",
       "        vertical-align: top;\n",
       "    }\n",
       "\n",
       "    .dataframe thead th {\n",
       "        text-align: right;\n",
       "    }\n",
       "</style>\n",
       "<table border=\"1\" class=\"dataframe\">\n",
       "  <thead>\n",
       "    <tr style=\"text-align: right;\">\n",
       "      <th></th>\n",
       "      <th>sepal_length</th>\n",
       "      <th>sepal_width</th>\n",
       "      <th>petal_length</th>\n",
       "      <th>petal_width</th>\n",
       "      <th>species</th>\n",
       "      <th>sepal_area</th>\n",
       "    </tr>\n",
       "  </thead>\n",
       "  <tbody>\n",
       "    <tr>\n",
       "      <th>15</th>\n",
       "      <td>0.388889</td>\n",
       "      <td>1.000000</td>\n",
       "      <td>0.084746</td>\n",
       "      <td>0.125</td>\n",
       "      <td>setosa</td>\n",
       "      <td>0.753247</td>\n",
       "    </tr>\n",
       "    <tr>\n",
       "      <th>85</th>\n",
       "      <td>0.472222</td>\n",
       "      <td>0.583333</td>\n",
       "      <td>0.593220</td>\n",
       "      <td>0.625</td>\n",
       "      <td>versicolor</td>\n",
       "      <td>0.519481</td>\n",
       "    </tr>\n",
       "    <tr>\n",
       "      <th>117</th>\n",
       "      <td>0.944444</td>\n",
       "      <td>0.750000</td>\n",
       "      <td>0.966102</td>\n",
       "      <td>0.875</td>\n",
       "      <td>virginica</td>\n",
       "      <td>0.962038</td>\n",
       "    </tr>\n",
       "  </tbody>\n",
       "</table>\n",
       "</div>"
      ],
      "text/plain": [
       "     sepal_length  sepal_width  petal_length  petal_width     species  \\\n",
       "15       0.388889     1.000000      0.084746        0.125      setosa   \n",
       "85       0.472222     0.583333      0.593220        0.625  versicolor   \n",
       "117      0.944444     0.750000      0.966102        0.875   virginica   \n",
       "\n",
       "     sepal_area  \n",
       "15     0.753247  \n",
       "85     0.519481  \n",
       "117    0.962038  "
      ]
     },
     "execution_count": 60,
     "metadata": {},
     "output_type": "execute_result"
    }
   ],
   "source": [
    "highest_sepal_width_rows"
   ]
  },
  {
   "cell_type": "markdown",
   "id": "64cf2c55-1e33-49c5-84c9-e1dedfbbc23e",
   "metadata": {},
   "source": [
    "### Replace all negative values in the 'petal_width' column of the Iris DataFrame with the mean of the non-negative values in that column."
   ]
  },
  {
   "cell_type": "code",
   "execution_count": 62,
   "id": "0d0610c4-90a9-4857-bff2-e128f473f233",
   "metadata": {},
   "outputs": [],
   "source": [
    "non_negative_mean = df.loc[df['petal_width'] >0 , 'petal_width'].mean()"
   ]
  },
  {
   "cell_type": "code",
   "execution_count": 63,
   "id": "aa2d4e06-ffe1-4edb-9f65-c92669676373",
   "metadata": {},
   "outputs": [
    {
     "data": {
      "text/plain": [
       "0.47685185185185186"
      ]
     },
     "execution_count": 63,
     "metadata": {},
     "output_type": "execute_result"
    }
   ],
   "source": [
    "non_negative_mean "
   ]
  },
  {
   "cell_type": "code",
   "execution_count": 65,
   "id": "cee22c57-df27-4f9a-b3ea-4da99286ad85",
   "metadata": {},
   "outputs": [],
   "source": [
    "df['petal_width'] = df['petal_width'].apply(lambda x : non_negative_mean if x < 0 else x)"
   ]
  },
  {
   "cell_type": "markdown",
   "id": "a8ef70d2-d187-42fa-bef3-6422a03b75dd",
   "metadata": {},
   "source": [
    "### Calculate the correlation matrix for the 'sepal_length', 'sepal_width', 'petal_length', and 'petal_width' columns in the Iris dataset and find the feature with the highest absolute correlation with 'petal_width'."
   ]
  },
  {
   "cell_type": "code",
   "execution_count": 68,
   "id": "265cd509-35a5-4d08-a6f0-4cfb9f85e8bc",
   "metadata": {},
   "outputs": [],
   "source": [
    "correlation_matrix = df[['sepal_length', 'sepal_width', 'petal_length','petal_width' ]].corr()"
   ]
  },
  {
   "cell_type": "code",
   "execution_count": 69,
   "id": "57ca4f78-7f6a-4f6c-8c57-4d229d5ab6c1",
   "metadata": {},
   "outputs": [
    {
     "data": {
      "text/html": [
       "<div>\n",
       "<style scoped>\n",
       "    .dataframe tbody tr th:only-of-type {\n",
       "        vertical-align: middle;\n",
       "    }\n",
       "\n",
       "    .dataframe tbody tr th {\n",
       "        vertical-align: top;\n",
       "    }\n",
       "\n",
       "    .dataframe thead th {\n",
       "        text-align: right;\n",
       "    }\n",
       "</style>\n",
       "<table border=\"1\" class=\"dataframe\">\n",
       "  <thead>\n",
       "    <tr style=\"text-align: right;\">\n",
       "      <th></th>\n",
       "      <th>sepal_length</th>\n",
       "      <th>sepal_width</th>\n",
       "      <th>petal_length</th>\n",
       "      <th>petal_width</th>\n",
       "    </tr>\n",
       "  </thead>\n",
       "  <tbody>\n",
       "    <tr>\n",
       "      <th>sepal_length</th>\n",
       "      <td>1.000000</td>\n",
       "      <td>-0.109369</td>\n",
       "      <td>0.871754</td>\n",
       "      <td>0.817954</td>\n",
       "    </tr>\n",
       "    <tr>\n",
       "      <th>sepal_width</th>\n",
       "      <td>-0.109369</td>\n",
       "      <td>1.000000</td>\n",
       "      <td>-0.420516</td>\n",
       "      <td>-0.356544</td>\n",
       "    </tr>\n",
       "    <tr>\n",
       "      <th>petal_length</th>\n",
       "      <td>0.871754</td>\n",
       "      <td>-0.420516</td>\n",
       "      <td>1.000000</td>\n",
       "      <td>0.962757</td>\n",
       "    </tr>\n",
       "    <tr>\n",
       "      <th>petal_width</th>\n",
       "      <td>0.817954</td>\n",
       "      <td>-0.356544</td>\n",
       "      <td>0.962757</td>\n",
       "      <td>1.000000</td>\n",
       "    </tr>\n",
       "  </tbody>\n",
       "</table>\n",
       "</div>"
      ],
      "text/plain": [
       "              sepal_length  sepal_width  petal_length  petal_width\n",
       "sepal_length      1.000000    -0.109369      0.871754     0.817954\n",
       "sepal_width      -0.109369     1.000000     -0.420516    -0.356544\n",
       "petal_length      0.871754    -0.420516      1.000000     0.962757\n",
       "petal_width       0.817954    -0.356544      0.962757     1.000000"
      ]
     },
     "execution_count": 69,
     "metadata": {},
     "output_type": "execute_result"
    }
   ],
   "source": [
    "correlation_matrix "
   ]
  },
  {
   "cell_type": "code",
   "execution_count": 70,
   "id": "cf11248c-aa1b-43a1-a4b5-ee3cad46c992",
   "metadata": {},
   "outputs": [],
   "source": [
    "highest_abs_correlation = correlation_matrix.abs().idxmax()"
   ]
  },
  {
   "cell_type": "code",
   "execution_count": 71,
   "id": "74776da9-757c-4c91-95ae-58caabc21f37",
   "metadata": {},
   "outputs": [
    {
     "data": {
      "text/plain": [
       "sepal_length    sepal_length\n",
       "sepal_width      sepal_width\n",
       "petal_length    petal_length\n",
       "petal_width      petal_width\n",
       "dtype: object"
      ]
     },
     "execution_count": 71,
     "metadata": {},
     "output_type": "execute_result"
    }
   ],
   "source": [
    "highest_abs_correlation "
   ]
  },
  {
   "cell_type": "code",
   "execution_count": null,
   "id": "d473bce2-5da4-40f6-ab81-546afe0c747f",
   "metadata": {},
   "outputs": [],
   "source": []
  }
 ],
 "metadata": {
  "kernelspec": {
   "display_name": "Python 3 (ipykernel)",
   "language": "python",
   "name": "python3"
  },
  "language_info": {
   "codemirror_mode": {
    "name": "ipython",
    "version": 3
   },
   "file_extension": ".py",
   "mimetype": "text/x-python",
   "name": "python",
   "nbconvert_exporter": "python",
   "pygments_lexer": "ipython3",
   "version": "3.10.8"
  }
 },
 "nbformat": 4,
 "nbformat_minor": 5
}
